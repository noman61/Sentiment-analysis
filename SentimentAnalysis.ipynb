{
 "cells": [
  {
   "cell_type": "code",
   "execution_count": 6,
   "metadata": {},
   "outputs": [],
   "source": [
    "import pandas as pd\n",
    "import numpy as np\n",
    "import matplotlib.pyplot as plt\n",
    "from sklearn.feature_extraction.text import CountVectorizer\n",
    "from sklearn.linear_model import LogisticRegression\n",
    "from sklearn.svm import SVC\n",
    "from sklearn.naive_bayes import MultinomialNB\n",
    "from sklearn.neural_network import MLPClassifier\n",
    "from sklearn.metrics import confusion_matrix, accuracy_score\n",
    "import pickle\n",
    "\n",
    "%matplotlib inline"
   ]
  },
  {
   "cell_type": "code",
   "execution_count": 4,
   "metadata": {},
   "outputs": [
    {
     "data": {
      "text/html": [
       "<div>\n",
       "<table border=\"1\" class=\"dataframe\">\n",
       "  <thead>\n",
       "    <tr style=\"text-align: right;\">\n",
       "      <th></th>\n",
       "      <th>comment</th>\n",
       "      <th>label</th>\n",
       "    </tr>\n",
       "  </thead>\n",
       "  <tbody>\n",
       "    <tr>\n",
       "      <th>20209</th>\n",
       "      <td>লসের সম্ভাবনা নাই</td>\n",
       "      <td>0</td>\n",
       "    </tr>\n",
       "    <tr>\n",
       "      <th>20210</th>\n",
       "      <td>হিন্দুদের কাছে শয়তানও হার মানে তারা হলো শয়তানে...</td>\n",
       "      <td>3</td>\n",
       "    </tr>\n",
       "    <tr>\n",
       "      <th>20211</th>\n",
       "      <td>আমার তো তোমারেই মনে পড়ে</td>\n",
       "      <td>0</td>\n",
       "    </tr>\n",
       "    <tr>\n",
       "      <th>20212</th>\n",
       "      <td>কোপালে জেয় কোন টিপ দেওয়া হারাম।</td>\n",
       "      <td>2</td>\n",
       "    </tr>\n",
       "    <tr>\n",
       "      <th>20213</th>\n",
       "      <td>অনেক সুনদর</td>\n",
       "      <td>0</td>\n",
       "    </tr>\n",
       "  </tbody>\n",
       "</table>\n",
       "</div>"
      ],
      "text/plain": [
       "                                                 comment  label\n",
       "20209                                  লসের সম্ভাবনা নাই      0\n",
       "20210  হিন্দুদের কাছে শয়তানও হার মানে তারা হলো শয়তানে...      3\n",
       "20211                           আমার তো তোমারেই মনে পড়ে      0\n",
       "20212                    কোপালে জেয় কোন টিপ দেওয়া হারাম।      2\n",
       "20213                                         অনেক সুনদর      0"
      ]
     },
     "execution_count": 4,
     "metadata": {},
     "output_type": "execute_result"
    }
   ],
   "source": [
    "comments = open('dataset18000.txt', encoding='utf-8').readlines()\n",
    "label = open('dataResult.txt').readlines()\n",
    "\n",
    "data = pd.DataFrame({'comment': comments, 'label': label})\n",
    "data.comment = data.comment.apply(lambda x: x.strip())\n",
    "data.label = data.label.apply(lambda x: int(x.strip()))\n",
    "data.label = data.label.astype('int32')\n",
    "\n",
    "n_data = pd.read_csv('new_data.csv')\n",
    "data = data.append(n_data, ignore_index=True)\n",
    "\n",
    "data.tail()"
   ]
  },
  {
   "cell_type": "code",
   "execution_count": 41,
   "metadata": {},
   "outputs": [
    {
     "data": {
      "image/png": "[encoded data removed]",
      "text/plain": [
       "<matplotlib.figure.Figure at 0x192a9afbd68>"
      ]
     },
     "metadata": {},
     "output_type": "display_data"
    }
   ],
   "source": [
    "freq = data.label.value_counts()\n",
    "freqs = [freq[x] for x in range(5)]\n",
    "\n",
    "plt.figure(figsize=(10,6))\n",
    "plt.bar([1, 2, 3, 4, 5], freqs, tick_label=['Positive', 'Sexual Harassment', 'CyberBully', 'Religious Extremism', 'Political'])\n",
    "plt.ylabel('Counts')\n",
    "plt.show()"
   ]
  },
  {
   "cell_type": "code",
   "execution_count": 7,
   "metadata": {},
   "outputs": [
    {
     "name": "stdout",
     "output_type": "stream",
     "text": [
      "(20214, 72716) (20214,)\n"
     ]
    }
   ],
   "source": [
    "vec = CountVectorizer(ngram_range=(1, 3))\n",
    "vec.fit(data.comment.values)\n",
    "\n",
    "X = vec.transform(data.comment.values)\n",
    "Y = data.label.values\n",
    "\n",
    "X_train = X[:15000]\n",
    "Y_train = Y[:15000]\n",
    "\n",
    "X_test = X[15000:18000]\n",
    "Y_test = Y[15000:18000]\n",
    "\n",
    "X_valid = X[18000:]\n",
    "Y_valid = Y[18000:]\n",
    "\n",
    "print(X.shape, Y.shape)"
   ]
  },
  {
   "cell_type": "code",
   "execution_count": 8,
   "metadata": {},
   "outputs": [
    {
     "name": "stdout",
     "output_type": "stream",
     "text": [
      "Naive Bayes\n",
      "Accuracy: 0.754\n",
      "Confusion Matrix:\n",
      "[[684   1   9   8   8]\n",
      " [129 196  14   8   5]\n",
      " [124  10 246  16   8]\n",
      " [ 29   2   3 327   6]\n",
      " [  3   0   2   3 373]]\n"
     ]
    }
   ],
   "source": [
    "accs = []\n",
    "#Naive Bayes\n",
    "clf = MultinomialNB()\n",
    "clf.fit(X_train, Y_train)\n",
    "pred = clf.predict(X_test)\n",
    "pred1 = clf.predict(X_valid)\n",
    "\n",
    "acc = accuracy_score(Y_test, pred)\n",
    "cnf = confusion_matrix(Y_valid, pred1)\n",
    "print('Naive Bayes')\n",
    "print('Accuracy:', acc)\n",
    "print('Confusion Matrix:')\n",
    "print(cnf)\n",
    "\n",
    "accs.append(acc)"
   ]
  },
  {
   "cell_type": "code",
   "execution_count": 9,
   "metadata": {},
   "outputs": [
    {
     "name": "stdout",
     "output_type": "stream",
     "text": [
      "Logistic Regression\n",
      "Accuracy: 0.7946666666666666\n",
      "Confusion Matrix:\n",
      "[[685   9  13   3   0]\n",
      " [ 99 237  15   0   1]\n",
      " [ 94  10 297   0   3]\n",
      " [ 26   1   5 333   2]\n",
      " [  6   1   3   1 370]]\n"
     ]
    }
   ],
   "source": [
    "#Logistic Regression\n",
    "clf = LogisticRegression()\n",
    "clf.fit(X_train, Y_train)\n",
    "pred = clf.predict(X_test)\n",
    "pred1 = clf.predict(X_valid)\n",
    "\n",
    "acc = accuracy_score(Y_test, pred)\n",
    "cnf = confusion_matrix(Y_valid, pred1)\n",
    "print('Logistic Regression')\n",
    "print('Accuracy:', acc)\n",
    "print('Confusion Matrix:')\n",
    "print(cnf)\n",
    "\n",
    "accs.append(acc)"
   ]
  },
  {
   "cell_type": "code",
   "execution_count": 12,
   "metadata": {},
   "outputs": [
    {
     "name": "stdout",
     "output_type": "stream",
     "text": [
      "SVM\n",
      "Accuracy: 0.804\n",
      "Confusion Matrix:\n",
      "[[689   5  13   3   0]\n",
      " [ 96 244  11   0   1]\n",
      " [ 93   6 301   0   4]\n",
      " [ 25   1   4 337   0]\n",
      " [  5   1   2   0 373]]\n"
     ]
    }
   ],
   "source": [
    "#SVM\n",
    "clf = SVC(kernel='linear')\n",
    "clf.fit(X_train, Y_train)\n",
    "pred = clf.predict(X_test)\n",
    "pred1 = clf.predict(X_valid)\n",
    "\n",
    "acc = accuracy_score(Y_test, pred)\n",
    "cnf = confusion_matrix(Y_valid, pred1)\n",
    "print('SVM')\n",
    "print('Accuracy:', acc)\n",
    "print('Confusion Matrix:')\n",
    "print(cnf)\n",
    "\n",
    "accs.append(acc)"
   ]
  },
  {
   "cell_type": "code",
   "execution_count": 14,
   "metadata": {},
   "outputs": [
    {
     "name": "stdout",
     "output_type": "stream",
     "text": [
      "MLP\n",
      "Accuracy: 0.798\n",
      "Confusion Matrix:\n",
      "[[670  10  26   4   0]\n",
      " [ 79 264   7   1   1]\n",
      " [ 66  11 326   0   1]\n",
      " [ 18   1   5 343   0]\n",
      " [  4   1   4   2 370]]\n"
     ]
    }
   ],
   "source": [
    "#MLP\n",
    "clf = MLPClassifier(hidden_layer_sizes=(10, ))\n",
    "clf.fit(X_train, Y_train)\n",
    "pred = clf.predict(X_test)\n",
    "pred1 = clf.predict(X_valid)\n",
    "\n",
    "acc = accuracy_score(Y_test, pred)\n",
    "cnf = confusion_matrix(Y_valid, pred1)\n",
    "print('MLP')\n",
    "print('Accuracy:', acc)\n",
    "print('Confusion Matrix:')\n",
    "print(cnf)\n",
    "\n",
    "accs.append(acc)"
   ]
  },
  {
   "cell_type": "code",
   "execution_count": 29,
   "metadata": {},
   "outputs": [
    {
     "data": {
      "image/png": "[encoded data removed]",
      "text/plain": [
       "<matplotlib.figure.Figure at 0x192a850e5c0>"
      ]
     },
     "metadata": {},
     "output_type": "display_data"
    }
   ],
   "source": [
    "plt.bar([1, 2, 3, 4], [x*100 for x in accs], 0.8, tick_label=['NB', 'LR', 'SVM', 'MLP'])\n",
    "plt.xlim(0, 5)\n",
    "plt.ylim(0, 100)\n",
    "plt.show()"
   ]
  },
  {
   "cell_type": "code",
   "execution_count": 30,
   "metadata": {},
   "outputs": [
    {
     "name": "stdout",
     "output_type": "stream",
     "text": [
      "Done...\n"
     ]
    }
   ],
   "source": [
    "f_vec = 'vectorizer.pkl'\n",
    "f_lr = 'svm.pkl'\n",
    "\n",
    "pickle.dump(vec, open(f_vec, 'wb'))\n",
    "\n",
    "svm = SVC(kernel='linear')\n",
    "svm.fit(X, Y)\n",
    "\n",
    "pickle.dump(svm, open(f_lr, 'wb'))\n",
    "\n",
    "print('Done...')"
   ]
  }
 ],
 "metadata": {
  "kernelspec": {
   "display_name": "Python 3",
   "language": "python",
   "name": "python3"
  },
  "language_info": {
   "codemirror_mode": {
    "name": "ipython",
    "version": 3
   },
   "file_extension": ".py",
   "mimetype": "text/x-python",
   "name": "python",
   "nbconvert_exporter": "python",
   "pygments_lexer": "ipython3",
   "version": "3.6.0"
  }
 },
 "nbformat": 4,
 "nbformat_minor": 2
}
